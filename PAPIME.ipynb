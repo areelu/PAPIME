{
  "nbformat": 4,
  "nbformat_minor": 0,
  "metadata": {
    "colab": {
      "provenance": []
    },
    "kernelspec": {
      "name": "python3",
      "display_name": "Python 3"
    },
    "language_info": {
      "name": "python"
    }
  },
  "cells": [
    {
      "cell_type": "markdown",
      "source": [
        "## Proyecto III\n",
        "### Recolección de escombros"
      ],
      "metadata": {
        "id": "57J2EBJ2ubbM"
      }
    },
    {
      "cell_type": "markdown",
      "source": [
        "#### Definición del problema"
      ],
      "metadata": {
        "id": "iZU7X7KEvBr4"
      }
    },
    {
      "cell_type": "markdown",
      "source": [
        "El gobierno de una ciudad quiere implementar un sistema para la\n",
        "recolección de escombros en caso de desastres naturales. Cuando ocurre uno de estos eventos, el gobierno define un conjunto de puntos de recolección.\n",
        "\n",
        "La primera tarea es liberar las calles para permitir el acceso a todas las zonas de la ciudad. Para ello se lleva el escombro al punto de recolección más cercano. Posteriormente, el gobierno define el punto final donde se almacenará el escombro. A la hora de la recolección, el gobierno asigna preferencias a los puntos de recolección de acuerdo a qué tan rápido quiere que sean desalojados. Consoderando que se desea desalojar N puntos de recolección en M jornadas laborales y que se tienen disponibles K camiones de carga, los objetivos del gobierno son:\n",
        "\n",
        "1. Desalojar la mayor cantidad de puntos de recolección.\n",
        "\n",
        "2. Desalojar la mayor cantidad de escombro."
      ],
      "metadata": {
        "id": "BvxYyAeJvHmx"
      }
    },
    {
      "cell_type": "markdown",
      "source": [
        "En este proyecto se resolverá el primer objetivo mencionado, por lo cual se busca desalojar la mayor cantidad de puntos de recolección."
      ],
      "metadata": {
        "id": "nzJSFP7Vw9fI"
      }
    },
    {
      "cell_type": "markdown",
      "source": [
        "### Función objetivo"
      ],
      "metadata": {
        "id": "KnegaWvoxOM6"
      }
    },
    {
      "cell_type": "markdown",
      "source": [
        "![Screenshot 2023-08-15 at 13.53.41.png](data:image/png;base64,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)"
      ],
      "metadata": {
        "id": "w6Hn30fNxaZ4"
      }
    },
    {
      "cell_type": "markdown",
      "source": [
        "### Código"
      ],
      "metadata": {
        "id": "iZg71mC3xsOw"
      }
    },
    {
      "cell_type": "markdown",
      "source": [
        "A continuación se muestra la implementación para la resolución del objetivo 1."
      ],
      "metadata": {
        "id": "9jTlK4sOxuc6"
      }
    },
    {
      "cell_type": "code",
      "execution_count": null,
      "metadata": {
        "id": "4Iu5broNE6JC"
      },
      "outputs": [],
      "source": [
        "# Importar las librerías necesarias\n",
        "\n",
        "import numpy as np\n",
        "import random\n",
        "import math\n",
        "import itertools"
      ]
    },
    {
      "cell_type": "code",
      "source": [
        "# Definir los parámetros de entrada\n",
        "\n",
        "V = np.array([1, 2, 3, 4])        # Puntos de recolección\n",
        "W = np.array([1])                 # Dépositos\n",
        "q_v = np.array([40, 30, 20, 20])  # Cantidad de escombro en cada punto de recolección\n",
        "q = 10                            # Capacidad de carga de cada camión m3\n",
        "dV_w = np.array([30, 20, 50, 35]) # Distancia recolección-depósito km\n",
        "dW_v = np.array([20, 30, 50, 15]) # Distancia depósito-recolección km\n",
        "vel = 50                          # Velocidad de los camiones kn/hr\n",
        "K = 1                             # Número de camiones\n",
        "M = 4                             # Número de jornadas de trabajo\n",
        "N_ = 8                            # Número de horas por jornada de trabajo\n",
        "t = 0.1                           # Tiempo requerido para cargar 1m3 de escombro (tiempo en horas)"
      ],
      "metadata": {
        "id": "mRXx0BgbFENG"
      },
      "execution_count": null,
      "outputs": []
    },
    {
      "cell_type": "code",
      "source": [
        "# Crear una función que me permita saber cuantas veces será necesario visitar el nodo, en función de la capacidad de los camiones\n",
        "# Como paramétros de entrada:\n",
        "  # El conjunto de puntos de recolección (V)\n",
        "  # Cantidad de escombro en el punto V (q_v) dada en metros cúbicos\n",
        "  # Capacidad de carga de cada camión (q) dada en metros cúbicos\n",
        "\n",
        "def numberVisits(V:np.array, q_v:np.array, q:np.array)->int:\n",
        "  copy = q_v.copy()\n",
        "  visits_list = []\n",
        "  for i in range(len(V)):\n",
        "    visits = copy[i] / q\n",
        "    visits_list.append(math.ceil(visits))\n",
        "\n",
        "  return visits_list"
      ],
      "metadata": {
        "id": "UHoCQPhaFJW0"
      },
      "execution_count": null,
      "outputs": []
    },
    {
      "cell_type": "code",
      "source": [
        "numberVisits(V, q_v, q)"
      ],
      "metadata": {
        "colab": {
          "base_uri": "https://localhost:8080/"
        },
        "id": "V7EsDqaHFLQF",
        "outputId": "6c64bbcd-6211-4805-e54a-0106fca5f168"
      },
      "execution_count": null,
      "outputs": [
        {
          "output_type": "execute_result",
          "data": {
            "text/plain": [
              "[4, 3, 2, 2]"
            ]
          },
          "metadata": {},
          "execution_count": 4
        }
      ]
    },
    {
      "cell_type": "code",
      "source": [
        "# Crear una función que me diga cuanto tiempo toma llagar e irme de un nodo en específico al depósito.\n",
        "# Como paramétros de entrada:\n",
        "  # El nodo que se quiere visitar\n",
        "  # La cantidad de escombro que tiene ese nodo\n",
        "  # Tiempo requerido para cargar un metro cúbico de escombros en un camión (t) en horas.\n",
        "\n",
        "def time2Go(node: int, dV_w: np.array, dW_v: np.array, vel: float)->int:\n",
        "  node -= 1\n",
        "  distance = dV_w[node] + dW_v[node]\n",
        "  time = distance/vel\n",
        "  return distance, time"
      ],
      "metadata": {
        "id": "mT50e8v8FM78"
      },
      "execution_count": null,
      "outputs": []
    },
    {
      "cell_type": "code",
      "source": [
        "time2Go(3, dV_w, dW_v, vel)"
      ],
      "metadata": {
        "colab": {
          "base_uri": "https://localhost:8080/"
        },
        "id": "UhGcrmMcFO4J",
        "outputId": "9f8cc386-0470-4082-ef6e-1f686a0bf218"
      },
      "execution_count": null,
      "outputs": [
        {
          "output_type": "execute_result",
          "data": {
            "text/plain": [
              "(100, 2.0)"
            ]
          },
          "metadata": {},
          "execution_count": 6
        }
      ]
    },
    {
      "cell_type": "code",
      "source": [
        "# Crear una función que me diga cuanto tiempo es necesario para cargar un camión.\n",
        "  # El resultado se regresa en horas\n",
        "\n",
        "def time2Charge(node: int, q_v: np.array, q: int, t: float)->float:\n",
        "  node -= 1\n",
        "  punto = q_v[node]\n",
        "  return punto * t"
      ],
      "metadata": {
        "id": "q5xDKrtFFQjm"
      },
      "execution_count": null,
      "outputs": []
    },
    {
      "cell_type": "code",
      "source": [
        "time2Charge(2, q_v, q, t)"
      ],
      "metadata": {
        "colab": {
          "base_uri": "https://localhost:8080/"
        },
        "id": "I13ORARBFSgt",
        "outputId": "bdbf4135-1e62-4dc4-edaf-7e85ddfff091"
      },
      "execution_count": null,
      "outputs": [
        {
          "output_type": "execute_result",
          "data": {
            "text/plain": [
              "3.0"
            ]
          },
          "metadata": {},
          "execution_count": 8
        }
      ]
    },
    {
      "cell_type": "code",
      "source": [
        "# Crear una función que me regrese el número de veces el valor que es necesario visitar un nodo para dejarlo vacío\n",
        "# Como datos de entrada:\n",
        "  # Los puntos de recolección V\n",
        "  # La c\n",
        "\n",
        "def baseSolution(V: np.array, q_v: np.array, q: int)->list:\n",
        "  copy = q_v.copy()\n",
        "  visits = numberVisits(V, copy, q)\n",
        "  permutation = []\n",
        "  ints = list(map(int, visits))\n",
        "  for i in range(len(ints)):\n",
        "    permutation.extend((([V[i]] * ints[i])))\n",
        "\n",
        "  return permutation\n"
      ],
      "metadata": {
        "id": "df9FRAEMFUEF"
      },
      "execution_count": null,
      "outputs": []
    },
    {
      "cell_type": "code",
      "source": [
        "baseSolution(V, q_v, q)"
      ],
      "metadata": {
        "colab": {
          "base_uri": "https://localhost:8080/"
        },
        "id": "18mfC0URFVjC",
        "outputId": "e601631e-fdd7-49f0-e073-760c7bd3c778"
      },
      "execution_count": null,
      "outputs": [
        {
          "output_type": "execute_result",
          "data": {
            "text/plain": [
              "[1, 1, 1, 1, 2, 2, 2, 3, 3, 4, 4]"
            ]
          },
          "metadata": {},
          "execution_count": 10
        }
      ]
    },
    {
      "cell_type": "code",
      "source": [
        "# Generar soluciones en base a la permutación original.\n",
        "def getInitialPopulation(N: int, V: np.array ,q_v: np.array, q: int)->list:\n",
        "  copy = q_v.copy()\n",
        "  base = baseSolution(V, copy, q)\n",
        "  idx = [e for e in range(len(base))]\n",
        "  population = []\n",
        "  for _ in range(N):\n",
        "    random.shuffle(idx)\n",
        "    population.append(idx.copy())\n",
        "\n",
        "  return population"
      ],
      "metadata": {
        "id": "A7661cYcFWxT"
      },
      "execution_count": null,
      "outputs": []
    },
    {
      "cell_type": "code",
      "source": [
        "popu = getInitialPopulation(10, V, q_v, q)\n",
        "popu"
      ],
      "metadata": {
        "colab": {
          "base_uri": "https://localhost:8080/"
        },
        "id": "Hn3FIzNbFuZV",
        "outputId": "7d7a5571-5788-4788-ec2c-5e1b92e72a79"
      },
      "execution_count": null,
      "outputs": [
        {
          "output_type": "execute_result",
          "data": {
            "text/plain": [
              "[[1, 9, 6, 3, 4, 5, 2, 7, 0, 10, 8],\n",
              " [4, 7, 10, 3, 0, 8, 1, 6, 2, 9, 5],\n",
              " [4, 5, 2, 1, 9, 6, 0, 8, 10, 7, 3],\n",
              " [10, 0, 6, 9, 1, 2, 8, 7, 3, 5, 4],\n",
              " [9, 3, 7, 6, 1, 10, 5, 0, 2, 8, 4],\n",
              " [8, 2, 7, 1, 6, 3, 4, 10, 5, 0, 9],\n",
              " [5, 8, 3, 4, 1, 7, 6, 9, 10, 0, 2],\n",
              " [2, 3, 10, 0, 7, 6, 8, 1, 5, 4, 9],\n",
              " [8, 5, 6, 9, 4, 2, 3, 7, 10, 0, 1],\n",
              " [9, 7, 0, 3, 6, 10, 1, 4, 2, 8, 5]]"
            ]
          },
          "metadata": {},
          "execution_count": 12
        }
      ]
    },
    {
      "cell_type": "code",
      "source": [
        "# Función encargada de transformar la permutación inicial en\n",
        "def convert2Original(indiv: list, N: int, V: np.array, q_v: np.array, q: int)->tuple:\n",
        "  copy = q_v.copy()\n",
        "  base = baseSolution(V, copy, q)\n",
        "  index = indiv\n",
        "  convert = []\n",
        "  for i in range(len(base)):\n",
        "    r = index[i]\n",
        "    c = base[r]\n",
        "    convert.append(c)\n",
        "  return index, convert"
      ],
      "metadata": {
        "id": "dC0btzb1FvzN"
      },
      "execution_count": null,
      "outputs": []
    },
    {
      "cell_type": "code",
      "source": [
        "conv = convert2Original(popu[0], 100, V, q_v, q)\n",
        "conv"
      ],
      "metadata": {
        "colab": {
          "base_uri": "https://localhost:8080/"
        },
        "id": "HfvR-qus8H8S",
        "outputId": "4e6e34b6-2bbd-4534-beeb-ce6f0aebe2c5"
      },
      "execution_count": null,
      "outputs": [
        {
          "output_type": "execute_result",
          "data": {
            "text/plain": [
              "([1, 9, 6, 3, 4, 5, 2, 7, 0, 10, 8], [1, 4, 2, 1, 2, 2, 1, 3, 1, 4, 3])"
            ]
          },
          "metadata": {},
          "execution_count": 14
        }
      ]
    },
    {
      "cell_type": "code",
      "source": [
        "def f(permutation: list, N: int, V: np.array, q_v: np.array, q: int, N_: int, M: int, t: float)->list:\n",
        "  horas = 0\n",
        "  dist = 0\n",
        "  pref = 0\n",
        "  copy = q_v.copy()\n",
        "  totalHours = N_ * M\n",
        "  recorridoValido = []\n",
        "  for index in permutation:\n",
        "    if horas < totalHours:\n",
        "      ida = time2Go(index, dV_w, dW_v, vel)\n",
        "      carga = time2Charge(index, copy, q, t)\n",
        "      if horas + ida[1] + carga <= totalHours:\n",
        "        recorridoValido.append(index)\n",
        "        horas += ida[1] + carga\n",
        "        dist += ida[0]\n",
        "  for pos in recorridoValido:\n",
        "    if 0 <= pos < len(copy):\n",
        "      copy[index - 1] -= 10\n",
        "    if copy[index -1] == 0:\n",
        "      pref += 1\n",
        "  return [recorridoValido, [pref]]"
      ],
      "metadata": {
        "id": "axBXiUKC8JMv"
      },
      "execution_count": null,
      "outputs": []
    },
    {
      "cell_type": "code",
      "source": [
        "eval = f(conv[1], 100, V, q_v, q, N_, M, t)\n",
        "eval"
      ],
      "metadata": {
        "colab": {
          "base_uri": "https://localhost:8080/"
        },
        "id": "gsv4q3yv8LOc",
        "outputId": "b0c437a4-f655-4517-e587-a02389466561"
      },
      "execution_count": null,
      "outputs": [
        {
          "output_type": "execute_result",
          "data": {
            "text/plain": [
              "[[1, 4, 2, 1, 2, 2, 1], [1]]"
            ]
          },
          "metadata": {},
          "execution_count": 16
        }
      ]
    },
    {
      "cell_type": "code",
      "source": [
        "def mutacion_heuristica(p: list, k: int, N: int, V: np.array, q_v: np.array, q: int, N_: int, M: int, t: float)->list:\n",
        "  #p = [0, 4, 8, 1, 2, 5, 10, 7, 9, 3, 6]\n",
        "  permutacion = np.array(convert2Original(p, N, V, q_v, q))\n",
        "  #print(permutacion2)\n",
        "  #permutacion = np.array(permutacion[1])\n",
        "  #permutacion = np.array([1, 2, 3, 1, 4, 3, 1, 2, 4, 1, 2])\n",
        "  #print('permutation: ', permutacion)\n",
        "  posiciones = np.random.choice(range(len(permutacion[1])), size = 3, replace = False)\n",
        "  posiciones.sort()\n",
        "  #print(posiciones)\n",
        "  permutaciones = itertools.permutations(posiciones)\n",
        "  mutaciones = []\n",
        "  for per in permutaciones:\n",
        "    copia = permutacion[1].copy()\n",
        "    copia[list(posiciones)] = permutacion[1][list(per)]\n",
        "    #print(copia)\n",
        "    mutaciones.append((copia, f(copia, N, V, q_v, q, N_, M, t)))\n",
        "    #print(mutaciones)\n",
        "  #print('Mutaciones', mutaciones)\n",
        "  #print('Mutación pos 0',mutaciones[0][1])\n",
        "  mutaciones.sort(key=lambda x: x[0][1])\n",
        "  #print('Mutaciones ordenadas: ', mutaciones)\n",
        "  return mutaciones[0][1]"
      ],
      "metadata": {
        "id": "R3mazUu99sjM"
      },
      "execution_count": null,
      "outputs": []
    },
    {
      "cell_type": "code",
      "source": [
        "mu = mutacion_heuristica(popu[0], 3, 100, V, q_v, q, N_, M, t)"
      ],
      "metadata": {
        "id": "sRZoApa9QH7Z"
      },
      "execution_count": null,
      "outputs": []
    },
    {
      "cell_type": "code",
      "source": [
        "mu"
      ],
      "metadata": {
        "colab": {
          "base_uri": "https://localhost:8080/"
        },
        "id": "1OdOcAy0uOfU",
        "outputId": "651b84dc-a3af-4579-de89-a0b6a2a0bc28"
      },
      "execution_count": null,
      "outputs": [
        {
          "output_type": "execute_result",
          "data": {
            "text/plain": [
              "[[1, 4, 2, 1, 2, 2, 1], [1]]"
            ]
          },
          "metadata": {},
          "execution_count": 19
        }
      ]
    },
    {
      "cell_type": "code",
      "source": [
        "def crossover_sexual_middle(indiv_1: list, indiv_2: list)->list:\n",
        "    crossover_point = random.randint(1, len(indiv_1) - 1)\n",
        "    child = indiv_1[:crossover_point]\n",
        "    for p2 in indiv_2:\n",
        "      if p2 not in child:\n",
        "        child.append(p2)\n",
        "    return child"
      ],
      "metadata": {
        "id": "jKst2J--QJI7"
      },
      "execution_count": null,
      "outputs": []
    },
    {
      "cell_type": "code",
      "source": [
        "crossover_sexual_middle(popu[0],popu[1])"
      ],
      "metadata": {
        "id": "aEZ2VS3-HeYT",
        "colab": {
          "base_uri": "https://localhost:8080/"
        },
        "outputId": "880204b9-85ba-4d2e-8ff4-7082ab5ddafc"
      },
      "execution_count": null,
      "outputs": [
        {
          "output_type": "execute_result",
          "data": {
            "text/plain": [
              "[1, 9, 6, 3, 4, 5, 2, 7, 10, 0, 8]"
            ]
          },
          "metadata": {},
          "execution_count": 21
        }
      ]
    },
    {
      "cell_type": "code",
      "source": [
        "def selection_comma(parents, children):\n",
        "    mu = len(parents)\n",
        "    children.sort(key=lambda x:x [x][1])\n",
        "    new_pop = children[:mu]\n",
        "    parents.sort(key=lambda x:x[0])\n",
        "    if parents[0] < new_pop[-1]:\n",
        "        new_pop[-1] = parents[0]\n",
        "    return new_pop"
      ],
      "metadata": {
        "id": "GkHqitdRDwdE"
      },
      "execution_count": null,
      "outputs": []
    },
    {
      "cell_type": "code",
      "source": [
        "def EE(N: int, T: float, G: int, n: int):\n",
        "\n",
        "    # T = 1/np.sqrt(n)\n",
        "    population = getInitialPopulation(100, V, q_v, q)\n",
        "    population_idx = range(N)\n",
        "    pop = []\n",
        "    for gen in range(G):\n",
        "        children = []\n",
        "        for i in range(N):\n",
        "            parents_idx = np.random.choice(population_idx, 2)\n",
        "            parent_1 = population[population_idx[0]]\n",
        "            #print('parent1', parent_1)\n",
        "            parent_2 = population[population_idx[1]]\n",
        "            #print('parent2', parent_2)\n",
        "            child = crossover_sexual_middle(parent_1, parent_2)\n",
        "            #print('child', child)\n",
        "            children.append(mutacion_heuristica(child, n, N, V, q_v, q, N_, M, t))\n",
        "            print('children', children[i][1])\n",
        "        #population = children[gen][]\n",
        "        #print(children)\n",
        "    children.sort(key = lambda x: x[1])\n",
        "    return children[-1]"
      ],
      "metadata": {
        "id": "I1EQh_ipHVZ2"
      },
      "execution_count": null,
      "outputs": []
    },
    {
      "cell_type": "code",
      "source": [
        "n = 3"
      ],
      "metadata": {
        "id": "hHndtXclYkr_"
      },
      "execution_count": null,
      "outputs": []
    },
    {
      "cell_type": "code",
      "source": [
        "EE(5, 1/np.sqrt(n), 10, n)"
      ],
      "metadata": {
        "colab": {
          "base_uri": "https://localhost:8080/"
        },
        "id": "MkBI1Uy0HYOG",
        "outputId": "f4228b1c-bdff-40b7-9a9d-b8e605304df8"
      },
      "execution_count": null,
      "outputs": [
        {
          "output_type": "stream",
          "name": "stdout",
          "text": [
            "children [2]\n",
            "children [1]\n",
            "children [1]\n",
            "children [1]\n",
            "children [3]\n",
            "children [3]\n",
            "children [3]\n",
            "children [1]\n",
            "children [1]\n",
            "children [1]\n",
            "children [1]\n",
            "children [1]\n",
            "children [1]\n",
            "children [1]\n",
            "children [1]\n",
            "children [3]\n",
            "children [3]\n",
            "children [1]\n",
            "children [3]\n",
            "children [1]\n",
            "children [1]\n",
            "children [1]\n",
            "children [3]\n",
            "children [1]\n",
            "children [1]\n",
            "children [2]\n",
            "children [1]\n",
            "children [1]\n",
            "children [1]\n",
            "children [1]\n",
            "children [1]\n",
            "children [1]\n",
            "children [1]\n",
            "children [1]\n",
            "children [1]\n",
            "children [1]\n",
            "children [1]\n",
            "children [1]\n",
            "children [2]\n",
            "children [1]\n",
            "children [1]\n",
            "children [3]\n",
            "children [1]\n",
            "children [1]\n",
            "children [3]\n",
            "children [1]\n",
            "children [1]\n",
            "children [1]\n",
            "children [1]\n",
            "children [1]\n"
          ]
        },
        {
          "output_type": "execute_result",
          "data": {
            "text/plain": [
              "[[3, 1, 3, 4, 4, 2, 1, 2], [1]]"
            ]
          },
          "metadata": {},
          "execution_count": 25
        }
      ]
    },
    {
      "cell_type": "code",
      "source": [],
      "metadata": {
        "id": "2qf_Ffzs4nfV"
      },
      "execution_count": null,
      "outputs": []
    }
  ]
}